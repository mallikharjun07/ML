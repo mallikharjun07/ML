{
 "cells": [
  {
   "cell_type": "raw",
   "metadata": {
    "_uuid": "1f872844f178d90776dc1b06d25cd6b819222199"
   },
   "source": [
    "# import libraries \n",
    "from nltk.stem.wordnet import WordNetLemmatizer\n",
    "from nltk.corpus import stopwords\n",
    "import pandas as pd\n",
    "import string\n",
    "import nltk\n",
    "\n",
    "## load dataset\n",
    "add = \"spamdata.csv\"\n",
    "data = pd.read_csv(add, encoding='latin-1')\n",
    "data.head(5)"
   ]
  },
  {
   "cell_type": "code",
   "execution_count": null,
   "metadata": {
    "_uuid": "c6b1a3e7c75160b16902579f89d2207bedde5f13"
   },
   "outputs": [],
   "source": [
    "# text preprocessing \n",
    "lem = WordNetLemmatizer()\n",
    "\n",
    "def _clean(text):\n",
    "    ## lower case \n",
    "    cleaned = text.lower()\n",
    "    \n",
    "    ## remove punctuations\n",
    "    punctuations = string.punctuation\n",
    "    cleaned = \"\".join(character for character in cleaned if character not in punctuations)\n",
    "    \n",
    "    ## remove stopwords \n",
    "    words = cleaned.split()\n",
    "    stopword_lists = stopwords.words(\"english\")\n",
    "    cleaned = [word for word in words if word not in stopword_lists]\n",
    "    \n",
    "    ## normalization - lemmatization\n",
    "    cleaned = [lem.lemmatize(word, \"v\") for word in cleaned]\n",
    "    cleaned = [lem.lemmatize(word, \"n\") for word in cleaned]\n",
    "    \n",
    "    ## join \n",
    "    cleaned = \" \".join(cleaned)\n",
    "    return cleaned\n",
    "\n",
    "data[\"cleaned\"] = data[\"text\"].apply(lambda x : clean_text(x))\n",
    "data.head()"
   ]
  },
  {
   "cell_type": "code",
   "execution_count": null,
   "metadata": {},
   "outputs": [],
   "source": [
    "_clean(\"I will by playing a game today !! \")"
   ]
  },
  {
   "cell_type": "code",
   "execution_count": null,
   "metadata": {},
   "outputs": [],
   "source": [
    "data[\"cleaned\"] = data[\"text\"].apply(_clean)\n",
    "data.head()"
   ]
  },
  {
   "cell_type": "code",
   "execution_count": null,
   "metadata": {},
   "outputs": [],
   "source": [
    "## feature engineering \n",
    "\n",
    "## meta features \n",
    "\n",
    "data[\"word_count\"] = data[\"text\"].apply(lambda x : len(x.split()))\n",
    "data[\"word_count_cleand\"] = data[\"cleaned\"].apply(lambda x : len(x.split()))\n",
    "\n",
    "data[\"char_count\"] = data[\"text\"].apply(lambda x : len(x))\n",
    "data[\"char_count_without_spaces\"] = data[\"text\"].apply(lambda x : len(x.replace(\" \",\"\")))\n",
    "\n",
    "data[\"num_dig\"] = data[\"text\"].apply(lambda x :  sum([1 if w.isdigit() else 0 for w in x.split()])                         )"
   ]
  },
  {
   "cell_type": "code",
   "execution_count": null,
   "metadata": {},
   "outputs": [],
   "source": [
    "data.head()"
   ]
  },
  {
   "cell_type": "code",
   "execution_count": null,
   "metadata": {},
   "outputs": [],
   "source": [
    "pos_dic = {\"noun\" : [\"NNP\", \"NN\", \"NNS\", \"NNPS\"], \"verb\" : [\"VBZ\", \"VB\", \"VBD\",\"VBG\", \"VBN\"]}\n",
    "import nltk\n",
    "def pos_check(txt, family):\n",
    "    tags = nltk.pos_tag(nltk.word_tokenize(txt))\n",
    "    count = 0\n",
    "    for tag in tags:\n",
    "        tag = tag[1]\n",
    "        if tag in pos_dic[family]:\n",
    "            count += 1 \n",
    "    return count\n",
    "\n",
    "# pos_check(\"They are playing in the ground\", \"verb\")\n",
    "\n",
    "data[\"noun_count\"] = data[\"text\"].apply(lambda x : pos_check(x, \"noun\"))\n",
    "data[\"verb_count\"] = data[\"text\"].apply(lambda x : pos_check(x, \"verb\"))"
   ]
  },
  {
   "cell_type": "code",
   "execution_count": null,
   "metadata": {},
   "outputs": [],
   "source": [
    "data.head()"
   ]
  },
  {
   "cell_type": "code",
   "execution_count": null,
   "metadata": {},
   "outputs": [],
   "source": [
    "from sklearn.feature_extraction.text import CountVectorizer, TfidfVectorizer\n",
    "\n",
    "cvz = CountVectorizer()\n",
    "cvz.fit(data[\"cleaned\"].values)\n",
    "count_vectors = cvz.transform(data[\"cleaned\"].values)"
   ]
  },
  {
   "cell_type": "code",
   "execution_count": null,
   "metadata": {},
   "outputs": [],
   "source": [
    "count_vectors"
   ]
  },
  {
   "cell_type": "code",
   "execution_count": null,
   "metadata": {},
   "outputs": [],
   "source": [
    "word_tfidf =TfidfVectorizer(max_features=500)\n",
    "word_tfidf.fit(data[\"cleaned\"].values)\n",
    "word_vectors_tfidf = word_tfidf.transform(data[\"cleaned\"].values)"
   ]
  },
  {
   "cell_type": "code",
   "execution_count": null,
   "metadata": {},
   "outputs": [],
   "source": [
    "ngram_tfidf =TfidfVectorizer(max_features=500, ngram_range=(1,2))\n",
    "ngram_tfidf.fit(data[\"cleaned\"].values)\n",
    "ngram_tfidf_tfidf = ngram_tfidf.transform(data[\"cleaned\"].values)"
   ]
  },
  {
   "cell_type": "code",
   "execution_count": null,
   "metadata": {},
   "outputs": [],
   "source": [
    "char_tfidf =TfidfVectorizer(max_features=500, analyzer=\"char\")\n",
    "char_tfidf.fit(data[\"cleaned\"].values)\n",
    "char_tfidf_tfidf = char_tfidf.transform(data[\"cleaned\"].values)"
   ]
  },
  {
   "cell_type": "code",
   "execution_count": null,
   "metadata": {},
   "outputs": [],
   "source": [
    "tfidf = dict(zip(word_tfidf.get_feature_names(), word_tfidf.idf_))\n",
    "tfidf_idf = pd.DataFrame.from_dict(tfidf, orient=\"index\")\n",
    "tfidf_idf.columns=[\"word_tfidf\"]\n",
    "tfidf_idf.head()"
   ]
  },
  {
   "cell_type": "code",
   "execution_count": null,
   "metadata": {},
   "outputs": [],
   "source": [
    "from scipy.sparse import hstack, csr_matrix\n",
    "\n",
    "meta_features = ['word_count', 'word_count_cleand',\n",
    "       'char_count', 'char_count_without_spaces', 'num_dig', 'noun_count',\n",
    "       'verb_count']\n",
    "\n",
    "feature_set1 = data[meta_features]\n",
    "\n",
    "train = hstack([word_vectors_tfidf, csr_matrix(feature_set1)], \"csr\")\n",
    "train"
   ]
  },
  {
   "cell_type": "code",
   "execution_count": null,
   "metadata": {},
   "outputs": [],
   "source": [
    "from sklearn.preprocessing import LabelEncoder \n",
    "\n",
    "target = data[\"label\"].values\n",
    "target = LabelEncoder().fit_transform(target)"
   ]
  },
  {
   "cell_type": "code",
   "execution_count": null,
   "metadata": {},
   "outputs": [],
   "source": [
    "target"
   ]
  },
  {
   "cell_type": "code",
   "execution_count": null,
   "metadata": {},
   "outputs": [],
   "source": [
    "from sklearn.model_selection import train_test_split\n",
    "train_x, val_x, train_y, val_y = train_test_split(train, target)"
   ]
  },
  {
   "cell_type": "code",
   "execution_count": null,
   "metadata": {},
   "outputs": [],
   "source": [
    "train_x.shape"
   ]
  },
  {
   "cell_type": "code",
   "execution_count": null,
   "metadata": {},
   "outputs": [],
   "source": [
    "val_x.shape"
   ]
  },
  {
   "cell_type": "code",
   "execution_count": null,
   "metadata": {},
   "outputs": [],
   "source": [
    "from sklearn import naive_bayes\n",
    "from sklearn.linear_model import LogisticRegression\n",
    "from sklearn import svm \n",
    "from sklearn import ensemble\n",
    "from sklearn.metrics import accuracy_score"
   ]
  },
  {
   "cell_type": "code",
   "execution_count": null,
   "metadata": {},
   "outputs": [],
   "source": [
    "model = naive_bayes.MultinomialNB()\n",
    "model.fit(train_x, train_y)\n",
    "preds = model.predict(val_x)\n",
    "accuracy_score(preds, val_y)"
   ]
  },
  {
   "cell_type": "code",
   "execution_count": null,
   "metadata": {},
   "outputs": [],
   "source": [
    "model = LogisticRegression()\n",
    "model.fit(train_x, train_y)\n",
    "preds = model.predict(val_x)\n",
    "accuracy_score(preds, val_y)"
   ]
  },
  {
   "cell_type": "code",
   "execution_count": null,
   "metadata": {},
   "outputs": [],
   "source": [
    "model = svm.SVC()\n",
    "model.fit(train_x, train_y)\n",
    "preds = model.predict(val_x)\n",
    "accuracy_score(preds, val_y)"
   ]
  },
  {
   "cell_type": "code",
   "execution_count": null,
   "metadata": {},
   "outputs": [],
   "source": [
    "model = ensemble.ExtraTreesClassifier()\n",
    "model.fit(train_x, train_y)\n",
    "preds = model.predict(val_x)\n",
    "accuracy_score(preds, val_y)"
   ]
  },
  {
   "cell_type": "code",
   "execution_count": null,
   "metadata": {
    "_uuid": "8733e71597d6acb5580e406b33c80feda0f56ed4"
   },
   "outputs": [],
   "source": [
    "import xgboost\n",
    "\n",
    "model = xgboost.XGBClassifier()\n",
    "model.fit(trainx, trainy)\n",
    "preds = model.predict(valx)\n",
    "accuracy_score(preds, valy)"
   ]
  },
  {
   "cell_type": "code",
   "execution_count": null,
   "metadata": {},
   "outputs": [],
   "source": [
    "import numpy as np\n",
    "\n",
    "embeddings_index = {}\n",
    "for i, line in enumerate(open(\"pretrained.vec\", encoding=\"utf8\")):\n",
    "    if i == 0:\n",
    "        continue\n",
    "    value = line.split()\n",
    "    embeddings_index[value[0]] = np.array(values[1:], dtype=\"float32\")"
   ]
  },
  {
   "cell_type": "code",
   "execution_count": null,
   "metadata": {},
   "outputs": [],
   "source": [
    "from keras.preprocessing import text, sequence \n",
    "\n",
    "\n",
    "token = text.Tokenizer()\n",
    "token.fit_on_texts(data[\"text\"])\n",
    "word_index = token.word_index\n",
    "\n",
    "trainx, valx, trainy, valy = train_test_split(data[\"text\"], target)\n",
    "\n",
    "trainx = sequence.pad_sequences(token.texts_to_sequences(trainx), maxlen=70)\n",
    "valx = sequence.pad_sequences(token.texts_to_sequences(valx), maxlen=70)\n",
    "\n",
    "embedding_matrix = np.zeros((len(word_index)+1, 300))\n",
    "for word, i in word_index.items():\n",
    "    embedding_vector = embeddings_index.get(word)\n",
    "    if embedding_vector is not None:\n",
    "        embedding_matrix[i] = embedding_vector"
   ]
  },
  {
   "cell_type": "code",
   "execution_count": null,
   "metadata": {},
   "outputs": [],
   "source": [
    "def train_model(classifier, feature_vector_train, label, feature_vector_val, valid_y):\n",
    "    classifier.fit(feature_vector_train, label)\n",
    "    predictions = classifier.predict(feature_vector_val)\n",
    "    predictions = predictions.argmax(axis=-1)\n",
    "    return accuracy_score(predictions, valid_y)"
   ]
  },
  {
   "cell_type": "code",
   "execution_count": null,
   "metadata": {},
   "outputs": [],
   "source": [
    "from keras import layers, models, optimizers \n",
    "\n",
    "def create_cnn():\n",
    "    \n",
    "    input_layer = layers.Input((70, ))\n",
    "    \n",
    "    embedding_layer = layers.Embedding(len(word_index)+1, 300, weights=[embedding_matrix], trainable=False)(input_layer)\n",
    "    \n",
    "    conv_layer = layers.Convolution1D(100, 3, activation=\"relu\")(embedding_layer)\n",
    "    \n",
    "    pooling_layer = layers.GlobalMaxPool1D()(conv_layer)\n",
    "    \n",
    "    output_layer = layers.Dense(50, activation=\"relu\")(pooling_layer)\n",
    "    output_layer = layers.Dropout(0.25)(output_layer)    \n",
    "    output_layer = layers.Dense(1, activation=\"sigmoid\")(output_layer)\n",
    "    \n",
    "    model = models.Model(inputs=input_layer, outputs=output_layer)\n",
    "    model.compile(optimizer=optimizers.Adam(), loss=\"binary_crossentropy\")\n",
    "    return model"
   ]
  },
  {
   "cell_type": "code",
   "execution_count": null,
   "metadata": {},
   "outputs": [],
   "source": [
    "classifier = create_cnn()\n",
    "train_model(classifier, trainx, trainy, valx, valy)"
   ]
  },
  {
   "cell_type": "code",
   "execution_count": null,
   "metadata": {
    "_uuid": "0e20242470db5f225823acfbe524f7adb8c0a9f4"
   },
   "outputs": [],
   "source": [
    "## feature engineering \n",
    "\n",
    "## meta features\n",
    "data[\"cleaned\"] = data[\"cleaned\"].fillna(\"\")\n",
    "\n",
    "data[\"digit_count\"] = data[\"text\"].apply(lambda x : sum([1 if w.isdigit() else 0 for w in x.split()]))\n",
    "data[\"upper_count\"] = data[\"text\"].apply(lambda x : sum([1 if w.isupper() else 0 for w in x.split()]))\n",
    "data[\"word_count\"] = data[\"cleaned\"].apply(lambda x: len(x.split()))\n",
    "data[\"char_count\"] = data[\"cleaned\"].apply(lambda x: len(x))\n",
    "data[\"char_nospace_count\"] = data[\"cleaned\"].apply(lambda x: len(x.replace(\" \",\"\")))\n",
    "\n",
    "data"
   ]
  },
  {
   "cell_type": "code",
   "execution_count": null,
   "metadata": {
    "_uuid": "1a7989cb1ca5978a5f87140e417e27c1ad0dbfa6"
   },
   "outputs": [],
   "source": [
    "## nlp based features \n",
    "\n",
    "pos_dic = {\n",
    "    'noun' : ['NN','NNS','NNP','NNPS'],\n",
    "    'pron' : ['PRP','PRP$','WP','WP$'],\n",
    "    'verb' : ['VB','VBD','VBG','VBN','VBP','VBZ'],\n",
    "    'adj' :  ['JJ','JJR','JJS'],\n",
    "    'adv' : ['RB','RBR','RBS','WRB']\n",
    "}\n",
    "\n",
    "def pos_check(x, flag):\n",
    "    tags = nltk.pos_tag(nltk.word_tokenize(x))\n",
    "    count = 0\n",
    "    for tag in tags:\n",
    "        tag = tag[1]\n",
    "        if tag in pos_dic[flag]:\n",
    "            count += 1\n",
    "    return count\n",
    "\n",
    "data['noun_count'] = data['cleaned'].apply(lambda x: pos_check(x, 'noun'))\n",
    "data['verb_count'] = data['cleaned'].apply(lambda x: pos_check(x, 'verb'))\n",
    "data"
   ]
  },
  {
   "cell_type": "code",
   "execution_count": null,
   "metadata": {
    "_uuid": "968c73b132860c4bb841f148bc766a285e869f06"
   },
   "outputs": [],
   "source": [
    "from sklearn.feature_extraction.text import CountVectorizer\n",
    "from sklearn.feature_extraction.text import TfidfVectorizer\n",
    "\n",
    "cvz = CountVectorizer(analyzer='word') \n",
    "cvz.fit(data[\"cleaned\"].values)\n",
    "count_vectors = cvz.transform(data[\"cleaned\"].values)"
   ]
  },
  {
   "cell_type": "code",
   "execution_count": null,
   "metadata": {},
   "outputs": [],
   "source": [
    "count_vectors"
   ]
  },
  {
   "cell_type": "code",
   "execution_count": null,
   "metadata": {
    "_uuid": "96cb4e05f4d2122dc37cc9c70d79b22ee11d889e"
   },
   "outputs": [],
   "source": [
    "word_tfidf = TfidfVectorizer(analyzer='word') \n",
    "word_tfidf.fit(data[\"cleaned\"].values)\n",
    "word_vectors_tfidf = word_tfidf.transform(data[\"cleaned\"].values)\n",
    "\n",
    "ngram_tfidf = TfidfVectorizer(analyzer='word', ngram_range=(1,3)) \n",
    "ngram_tfidf.fit(data[\"cleaned\"].values)\n",
    "ngarm_vectors_tfidf = ngram_tfidf.transform(data[\"cleaned\"].values)\n",
    "\n",
    "char_tfidf = TfidfVectorizer(analyzer='char', ngram_range=(1,3)) \n",
    "char_tfidf.fit(data[\"cleaned\"].values)\n",
    "char_vectors_tfidf = char_tfidf.transform(data[\"cleaned\"].values)"
   ]
  },
  {
   "cell_type": "code",
   "execution_count": null,
   "metadata": {
    "_uuid": "d08dafd8012069195f4b3d3f2f92150c9e2f39a3"
   },
   "outputs": [],
   "source": [
    "tfidf = dict(zip(word_tfidf.get_feature_names(), word_tfidf.idf_))\n",
    "tfidf = pd.DataFrame(columns=['title_word_tfidf']).from_dict(dict(tfidf), orient='index')\n",
    "tfidf.columns = ['title_word_tfidf']\n",
    "tfidf.sort_values(by=['title_word_tfidf'], ascending=False).head()"
   ]
  },
  {
   "cell_type": "code",
   "execution_count": null,
   "metadata": {
    "_uuid": "c7645016cb25bb35baf2c134a40e88cf1b6bd68f"
   },
   "outputs": [],
   "source": [
    "tfidf.sort_values(by=['title_word_tfidf'], ascending=False).tail()"
   ]
  },
  {
   "cell_type": "code",
   "execution_count": null,
   "metadata": {},
   "outputs": [],
   "source": [
    "from scipy.sparse import hstack, csr_matrix\n",
    "\n",
    "meta_features = ['digit_count', 'upper_count', 'word_count', 'char_count', 'char_nospace_count', 'noun_count', 'verb_count']\n",
    "feature_set1 = data[meta_features]\n",
    "train = hstack([word_vectors_tfidf, csr_matrix(feature_set1)], 'csr')"
   ]
  },
  {
   "cell_type": "code",
   "execution_count": null,
   "metadata": {},
   "outputs": [],
   "source": [
    "train"
   ]
  },
  {
   "cell_type": "code",
   "execution_count": null,
   "metadata": {
    "_uuid": "2fdae7450be9bf493a50179e885b778b5a6d2217"
   },
   "outputs": [],
   "source": [
    "from sklearn.preprocessing import LabelEncoder\n",
    "\n",
    "target = data['label'].values\n",
    "target = LabelEncoder().fit_transform(target)"
   ]
  },
  {
   "cell_type": "code",
   "execution_count": null,
   "metadata": {
    "_uuid": "a61652334908d4e1a01ba71cead11bdd8b702330"
   },
   "outputs": [],
   "source": [
    "from sklearn.model_selection import train_test_split\n",
    "trainx, valx, trainy, valy = train_test_split(train, target)"
   ]
  },
  {
   "cell_type": "code",
   "execution_count": null,
   "metadata": {
    "_uuid": "a99be3c2db8d7c152ca74b1eab1ed26bb9e19432"
   },
   "outputs": [],
   "source": [
    "from sklearn import naive_bayes\n",
    "from sklearn.linear_model import LogisticRegression\n",
    "from sklearn import svm\n",
    "from sklearn import ensemble\n",
    "# import xgboost\n",
    "from sklearn.metrics import accuracy_score"
   ]
  },
  {
   "cell_type": "code",
   "execution_count": null,
   "metadata": {
    "_uuid": "4605e907c822edf5cb6f8feddac1d12b15da079d"
   },
   "outputs": [],
   "source": [
    "## NaiveBayes\n",
    "model = naive_bayes.MultinomialNB()\n",
    "model.fit(trainx, trainy)\n",
    "preds = model.predict(valx)\n",
    "accuracy_score(preds, valy)"
   ]
  },
  {
   "cell_type": "code",
   "execution_count": null,
   "metadata": {
    "_uuid": "6a55f11a6a32cb703f56ba4e6829ca0cb84918df"
   },
   "outputs": [],
   "source": [
    "model = LogisticRegression()\n",
    "model.fit(trainx, trainy)\n",
    "preds = model.predict(valx)\n",
    "accuracy_score(preds, valy)"
   ]
  },
  {
   "cell_type": "code",
   "execution_count": null,
   "metadata": {
    "_uuid": "3bfb49d56112d808dfb88886125fb35a689a4cd3"
   },
   "outputs": [],
   "source": [
    "model = svm.SVC()\n",
    "model.fit(trainx, trainy)\n",
    "preds = model.predict(valx)\n",
    "accuracy_score(preds, valy)"
   ]
  },
  {
   "cell_type": "code",
   "execution_count": null,
   "metadata": {
    "_uuid": "b318a4113b1d267340f9a6a0b919906111feafcb"
   },
   "outputs": [],
   "source": [
    "model = ensemble.ExtraTreesClassifier()\n",
    "model.fit(trainx, trainy)\n",
    "preds = model.predict(valx)\n",
    "accuracy_score(preds, valy)"
   ]
  },
  {
   "cell_type": "code",
   "execution_count": null,
   "metadata": {
    "_uuid": "cd1a3f1d556b91f9d7f19873e751871ff7fe3789"
   },
   "outputs": [],
   "source": [
    "# load the pre-trained word-embedding vectors\n",
    "import numpy as np \n",
    "embeddings_index = {}\n",
    "for i, line in enumerate(open('pretrained.vec', encoding=\"utf8\")):\n",
    "    values = line.split()\n",
    "    embeddings_index[values[0]] = np.asarray(values[1:], dtype='float32')"
   ]
  },
  {
   "cell_type": "code",
   "execution_count": null,
   "metadata": {
    "_uuid": "5505bd107e0520f2a2010fde2ee6d09ea013cb9e"
   },
   "outputs": [],
   "source": [
    "# create a tokenizer \n",
    "from keras.preprocessing import text, sequence\n",
    "from sklearn import model_selection \n",
    "\n",
    "token = text.Tokenizer()\n",
    "token.fit_on_texts(data['text'])\n",
    "word_index = token.word_index\n",
    "\n",
    "# convert text to sequence of tokens and pad them to ensure equal length vectors \n",
    "train_x, valid_x, train_y, valid_y = model_selection.train_test_split(data['text'], target)\n",
    "train_seq_x = sequence.pad_sequences(token.texts_to_sequences(train_x), maxlen=70)\n",
    "valid_seq_x = sequence.pad_sequences(token.texts_to_sequences(valid_x), maxlen=70)\n",
    "\n",
    "# create token-embedding mapping\n",
    "embedding_matrix = np.zeros((len(word_index) + 1, 300))\n",
    "for word, i in word_index.items():\n",
    "    embedding_vector = embeddings_index.get(word)\n",
    "    if embedding_vector is not None:\n",
    "        embedding_matrix[i] = embedding_vector"
   ]
  },
  {
   "cell_type": "code",
   "execution_count": null,
   "metadata": {},
   "outputs": [],
   "source": [
    "train_x.shape"
   ]
  },
  {
   "cell_type": "code",
   "execution_count": null,
   "metadata": {
    "_uuid": "9bd413542a09faca6fc57b60cd6c5643394d0c80"
   },
   "outputs": [],
   "source": [
    "def train_model(classifier, feature_vector_train, label, feature_vector_valid, is_neural_net=False):\n",
    "    # fit the training dataset on the classifier\n",
    "    classifier.fit(feature_vector_train, label)\n",
    "    \n",
    "    # predict the labels on validation dataset\n",
    "    predictions = classifier.predict(feature_vector_valid)\n",
    "    \n",
    "    if is_neural_net:\n",
    "        predictions = predictions.argmax(axis=-1)\n",
    "    \n",
    "    return metrics.accuracy_score(predictions, valid_y)"
   ]
  },
  {
   "cell_type": "code",
   "execution_count": null,
   "metadata": {
    "_uuid": "4dc584a1a54bb7244110cb10091353b9d60911dd"
   },
   "outputs": [],
   "source": [
    "from keras import layers , models , optimizers\n",
    "from sklearn import metrics\n",
    "\n",
    "def create_cnn():\n",
    "    # Add an Input Layer\n",
    "    input_layer = layers.Input((70, ))\n",
    "\n",
    "    # Add the word embedding Layer\n",
    "    embedding_layer = layers.Embedding(len(word_index) + 1, 300, weights=[embedding_matrix], trainable=False)(input_layer)\n",
    "    embedding_layer = layers.SpatialDropout1D(0.3)(embedding_layer)\n",
    "\n",
    "    # Add the convolutional Layer\n",
    "    conv_layer = layers.Convolution1D(100, 3, activation=\"relu\")(embedding_layer)\n",
    "\n",
    "    # Add the pooling Layer\n",
    "    pooling_layer = layers.GlobalMaxPool1D()(conv_layer)\n",
    "\n",
    "    # Add the output Layers\n",
    "    output_layer1 = layers.Dense(50, activation=\"relu\")(pooling_layer)\n",
    "    output_layer1 = layers.Dropout(0.25)(output_layer1)\n",
    "    output_layer2 = layers.Dense(1, activation=\"sigmoid\")(output_layer1)\n",
    "\n",
    "    # Compile the model\n",
    "    model = models.Model(inputs=input_layer, outputs=output_layer2)\n",
    "    model.compile(optimizer=optimizers.Adam(), loss='binary_crossentropy')\n",
    "    \n",
    "    return model\n",
    "\n",
    "classifier = create_cnn()\n",
    "accuracy = train_model(classifier, train_seq_x, train_y, valid_seq_x, is_neural_net=True)\n",
    "print (\"CNN, Word Embeddings\",  accuracy)"
   ]
  }
 ],
 "metadata": {
  "kernelspec": {
   "display_name": "Python 3",
   "language": "python",
   "name": "python3"
  },
  "language_info": {
   "codemirror_mode": {
    "name": "ipython",
    "version": 3
   },
   "file_extension": ".py",
   "mimetype": "text/x-python",
   "name": "python",
   "nbconvert_exporter": "python",
   "pygments_lexer": "ipython3",
   "version": "3.7.3"
  }
 },
 "nbformat": 4,
 "nbformat_minor": 2
}
