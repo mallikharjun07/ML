{
  "nbformat": 4,
  "nbformat_minor": 0,
  "metadata": {
    "kernelspec": {
      "display_name": "Python 3",
      "language": "python",
      "name": "python3"
    },
    "language_info": {
      "codemirror_mode": {
        "name": "ipython",
        "version": 3
      },
      "file_extension": ".py",
      "mimetype": "text/x-python",
      "name": "python",
      "nbconvert_exporter": "python",
      "pygments_lexer": "ipython3",
      "version": "3.7.3"
    },
    "colab": {
      "name": "SMS Spam Classification.ipynb",
      "provenance": [],
      "include_colab_link": true
    }
  },
  "cells": [
    {
      "cell_type": "markdown",
      "metadata": {
        "id": "view-in-github",
        "colab_type": "text"
      },
      "source": [
        "<a href=\"https://colab.research.google.com/github/mallikharjun07/ML/blob/master/SMS%20Spam%20Classification.ipynb\" target=\"_parent\"><img src=\"https://colab.research.google.com/assets/colab-badge.svg\" alt=\"Open In Colab\"/></a>"
      ]
    },
    {
      "cell_type": "code",
      "metadata": {
        "id": "rWMp0pF9y9Rq",
        "colab_type": "code",
        "outputId": "cb0cd95a-cab0-4749-9d2f-4211123b2bd4",
        "colab": {
          "base_uri": "https://localhost:8080/",
          "height": 204
        }
      },
      "source": [
        "# Clone the entire repo.\n",
        "!git clone -l -s git://github.com/mallikharjun07/ML cloned-repo\n",
        "%cd cloned-repo\n",
        "!ls"
      ],
      "execution_count": 7,
      "outputs": [
        {
          "output_type": "stream",
          "text": [
            "Cloning into 'cloned-repo'...\n",
            "warning: --local is ignored\n",
            "remote: Enumerating objects: 27, done.\u001b[K\n",
            "remote: Counting objects:   3% (1/27)\u001b[K\rremote: Counting objects:   7% (2/27)\u001b[K\rremote: Counting objects:  11% (3/27)\u001b[K\rremote: Counting objects:  14% (4/27)\u001b[K\rremote: Counting objects:  18% (5/27)\u001b[K\rremote: Counting objects:  22% (6/27)\u001b[K\rremote: Counting objects:  25% (7/27)\u001b[K\rremote: Counting objects:  29% (8/27)\u001b[K\rremote: Counting objects:  33% (9/27)\u001b[K\rremote: Counting objects:  37% (10/27)\u001b[K\rremote: Counting objects:  40% (11/27)\u001b[K\rremote: Counting objects:  44% (12/27)\u001b[K\rremote: Counting objects:  48% (13/27)\u001b[K\rremote: Counting objects:  51% (14/27)\u001b[K\rremote: Counting objects:  55% (15/27)\u001b[K\rremote: Counting objects:  59% (16/27)\u001b[K\rremote: Counting objects:  62% (17/27)\u001b[K\rremote: Counting objects:  66% (18/27)\u001b[K\rremote: Counting objects:  70% (19/27)\u001b[K\rremote: Counting objects:  74% (20/27)\u001b[K\rremote: Counting objects:  77% (21/27)\u001b[K\rremote: Counting objects:  81% (22/27)\u001b[K\rremote: Counting objects:  85% (23/27)\u001b[K\rremote: Counting objects:  88% (24/27)\u001b[K\rremote: Counting objects:  92% (25/27)\u001b[K\rremote: Counting objects:  96% (26/27)\u001b[K\rremote: Counting objects: 100% (27/27)\u001b[K\rremote: Counting objects: 100% (27/27), done.\u001b[K\n",
            "remote: Compressing objects:   4% (1/25)\u001b[K\rremote: Compressing objects:   8% (2/25)\u001b[K\rremote: Compressing objects:  12% (3/25)\u001b[K\rremote: Compressing objects:  16% (4/25)\u001b[K\rremote: Compressing objects:  20% (5/25)\u001b[K\rremote: Compressing objects:  24% (6/25)\u001b[K\rremote: Compressing objects:  28% (7/25)\u001b[K\rremote: Compressing objects:  32% (8/25)\u001b[K\rremote: Compressing objects:  36% (9/25)\u001b[K\rremote: Compressing objects:  40% (10/25)\u001b[K\rremote: Compressing objects:  44% (11/25)\u001b[K\rremote: Compressing objects:  48% (12/25)\u001b[K\rremote: Compressing objects:  52% (13/25)\u001b[K\rremote: Compressing objects:  56% (14/25)\u001b[K\rremote: Compressing objects:  60% (15/25)\u001b[K\rremote: Compressing objects:  64% (16/25)\u001b[K\rremote: Compressing objects:  68% (17/25)\u001b[K\rremote: Compressing objects:  72% (18/25)\u001b[K\rremote: Compressing objects:  76% (19/25)\u001b[K\rremote: Compressing objects:  80% (20/25)\u001b[K\rremote: Compressing objects:  84% (21/25)\u001b[K\rremote: Compressing objects:  88% (22/25)\u001b[K\rremote: Compressing objects:  92% (23/25)\u001b[K\rremote: Compressing objects:  96% (24/25)\u001b[K\rremote: Compressing objects: 100% (25/25)\u001b[K\rremote: Compressing objects: 100% (25/25), done.\u001b[K\n",
            "Receiving objects:   3% (1/27)   \rReceiving objects:   7% (2/27)   \rReceiving objects:  11% (3/27)   \rReceiving objects:  14% (4/27)   \rReceiving objects:  18% (5/27)   \rReceiving objects:  22% (6/27)   \rReceiving objects:  25% (7/27)   \rReceiving objects:  29% (8/27)   \rReceiving objects:  33% (9/27)   \rReceiving objects:  37% (10/27)   \rReceiving objects:  40% (11/27)   \rReceiving objects:  44% (12/27)   \rReceiving objects:  48% (13/27)   \rReceiving objects:  51% (14/27)   \rremote: Total 27 (delta 15), reused 0 (delta 0), pack-reused 0\u001b[K\n",
            "Receiving objects:  55% (15/27)   \rReceiving objects:  59% (16/27)   \rReceiving objects:  62% (17/27)   \rReceiving objects:  66% (18/27)   \rReceiving objects:  70% (19/27)   \rReceiving objects:  74% (20/27)   \rReceiving objects:  77% (21/27)   \rReceiving objects:  81% (22/27)   \rReceiving objects:  85% (23/27)   \rReceiving objects:  88% (24/27)   \rReceiving objects:  92% (25/27)   \rReceiving objects:  96% (26/27)   \rReceiving objects: 100% (27/27)   \rReceiving objects: 100% (27/27), 2.03 MiB | 4.72 MiB/s, done.\n",
            "Resolving deltas:   0% (0/15)   \rResolving deltas:  13% (2/15)   \rResolving deltas:  20% (3/15)   \rResolving deltas:  66% (10/15)   \rResolving deltas: 100% (15/15)   \rResolving deltas: 100% (15/15), done.\n",
            "/content/cloned-repo\n",
            " bbc_news_mixed.csv   README.md  'SMS Spam Classification.ipynb'   spamdata.csv\n"
          ],
          "name": "stdout"
        }
      ]
    },
    {
      "cell_type": "code",
      "metadata": {
        "id": "C-0v5EdoCIe-",
        "colab_type": "code",
        "colab": {}
      },
      "source": [
        "file = '/content/cloned-repo/spamdata.csv'"
      ],
      "execution_count": 0,
      "outputs": []
    },
    {
      "cell_type": "code",
      "metadata": {
        "id": "M-TQSkyGCW5d",
        "colab_type": "code",
        "colab": {
          "base_uri": "https://localhost:8080/",
          "height": 196
        },
        "outputId": "54829664-b162-4adc-fc12-1b236e28257d"
      },
      "source": [
        "import pandas as pd\n",
        "data = pd.read_csv(file)\n",
        "data.head()"
      ],
      "execution_count": 13,
      "outputs": [
        {
          "output_type": "execute_result",
          "data": {
            "text/html": [
              "<div>\n",
              "<style scoped>\n",
              "    .dataframe tbody tr th:only-of-type {\n",
              "        vertical-align: middle;\n",
              "    }\n",
              "\n",
              "    .dataframe tbody tr th {\n",
              "        vertical-align: top;\n",
              "    }\n",
              "\n",
              "    .dataframe thead th {\n",
              "        text-align: right;\n",
              "    }\n",
              "</style>\n",
              "<table border=\"1\" class=\"dataframe\">\n",
              "  <thead>\n",
              "    <tr style=\"text-align: right;\">\n",
              "      <th></th>\n",
              "      <th>label</th>\n",
              "      <th>text</th>\n",
              "    </tr>\n",
              "  </thead>\n",
              "  <tbody>\n",
              "    <tr>\n",
              "      <th>0</th>\n",
              "      <td>ham</td>\n",
              "      <td>Go until jurong point, crazy.. Available only ...</td>\n",
              "    </tr>\n",
              "    <tr>\n",
              "      <th>1</th>\n",
              "      <td>ham</td>\n",
              "      <td>Ok lar... Joking wif u oni...</td>\n",
              "    </tr>\n",
              "    <tr>\n",
              "      <th>2</th>\n",
              "      <td>spam</td>\n",
              "      <td>Free entry in 2 a wkly comp to win FA Cup fina...</td>\n",
              "    </tr>\n",
              "    <tr>\n",
              "      <th>3</th>\n",
              "      <td>ham</td>\n",
              "      <td>U dun say so early hor... U c already then say...</td>\n",
              "    </tr>\n",
              "    <tr>\n",
              "      <th>4</th>\n",
              "      <td>ham</td>\n",
              "      <td>Nah I don't think he goes to usf, he lives aro...</td>\n",
              "    </tr>\n",
              "  </tbody>\n",
              "</table>\n",
              "</div>"
            ],
            "text/plain": [
              "  label                                               text\n",
              "0   ham  Go until jurong point, crazy.. Available only ...\n",
              "1   ham                      Ok lar... Joking wif u oni...\n",
              "2  spam  Free entry in 2 a wkly comp to win FA Cup fina...\n",
              "3   ham  U dun say so early hor... U c already then say...\n",
              "4   ham  Nah I don't think he goes to usf, he lives aro..."
            ]
          },
          "metadata": {
            "tags": []
          },
          "execution_count": 13
        }
      ]
    },
    {
      "cell_type": "code",
      "metadata": {
        "id": "zp2M7wS3DK9W",
        "colab_type": "code",
        "colab": {}
      },
      "source": [
        "from sklearn.preprocessing import LabelEncoder\n",
        "lencod = LabelEncoder()\n",
        "target = lencod.fit_transform(data['label'])"
      ],
      "execution_count": 0,
      "outputs": []
    },
    {
      "cell_type": "code",
      "metadata": {
        "id": "21_iwyXAD3uB",
        "colab_type": "code",
        "colab": {
          "base_uri": "https://localhost:8080/",
          "height": 33
        },
        "outputId": "9865c71f-4957-4c21-db1d-5ec6db44b2e4"
      },
      "source": [
        "target[:5]"
      ],
      "execution_count": 15,
      "outputs": [
        {
          "output_type": "execute_result",
          "data": {
            "text/plain": [
              "array([0, 0, 1, 0, 0])"
            ]
          },
          "metadata": {
            "tags": []
          },
          "execution_count": 15
        }
      ]
    },
    {
      "cell_type": "code",
      "metadata": {
        "id": "5NGpliwZELAT",
        "colab_type": "code",
        "colab": {}
      },
      "source": [
        ""
      ],
      "execution_count": 0,
      "outputs": []
    },
    {
      "cell_type": "markdown",
      "metadata": {
        "id": "2I0N1Cu7EPrT",
        "colab_type": "text"
      },
      "source": [
        "#### Load keras libraries"
      ]
    },
    {
      "cell_type": "code",
      "metadata": {
        "id": "4vUpD8WSCwko",
        "colab_type": "code",
        "colab": {}
      },
      "source": [
        "\n",
        "from keras.preprocessing.text import Tokenizer\n",
        "from keras.preprocessing.sequence import pad_sequences\n",
        "from sklearn.model_selection import train_test_split\n",
        "from sklearn.metrics import accuracy_score\n",
        "\n",
        "from keras import models, optimizers\n",
        "from keras.layers import Input,Embedding,SpatialDropout1D,Conv1D,GlobalMaxPool1D,Dense\n",
        "from keras.layers import Dropout\n",
        "from keras.models import Model"
      ],
      "execution_count": 0,
      "outputs": []
    },
    {
      "cell_type": "markdown",
      "metadata": {
        "id": "6hFlPB3gLck-",
        "colab_type": "text"
      },
      "source": [
        "#### Tokenize the data"
      ]
    },
    {
      "cell_type": "code",
      "metadata": {
        "id": "scDE9otyyLva",
        "colab_type": "code",
        "colab": {}
      },
      "source": [
        "token = Tokenizer()\n",
        "token.fit_on_texts(data[\"text\"])\n",
        "word_index = token.word_index\n",
        "# type(word_index) - it is dictionary"
      ],
      "execution_count": 0,
      "outputs": []
    },
    {
      "cell_type": "markdown",
      "metadata": {
        "id": "Pguk_8bjL4qB",
        "colab_type": "text"
      },
      "source": [
        "#### split the data into training and validation datasets"
      ]
    },
    {
      "cell_type": "code",
      "metadata": {
        "id": "3ATIMuEwEs5e",
        "colab_type": "code",
        "colab": {}
      },
      "source": [
        "trainx, valx, trainy, valy = train_test_split(data[\"text\"], target)\n",
        "\n",
        "train_seq_x = pad_sequences(token.texts_to_sequences(trainx),maxlen=70)\n",
        "val_seq_x = pad_sequences(token.texts_to_sequences(valx),maxlen=70)"
      ],
      "execution_count": 0,
      "outputs": []
    },
    {
      "cell_type": "code",
      "metadata": {
        "id": "0EpLhe1-F6Si",
        "colab_type": "code",
        "colab": {
          "base_uri": "https://localhost:8080/",
          "height": 134
        },
        "outputId": "142c287f-0354-4bd8-94eb-714fd7a1fc88"
      },
      "source": [
        "train_seq_x[:100]"
      ],
      "execution_count": 25,
      "outputs": [
        {
          "output_type": "execute_result",
          "data": {
            "text/plain": [
              "array([[   0,    0,    0, ...,    3,  224,   12],\n",
              "       [   0,    0,    0, ...,   47, 8857, 2985],\n",
              "       [   0,    0,    0, ...,   17,    2,  414],\n",
              "       ...,\n",
              "       [   0,    0,    0, ...,  311,   29,  283],\n",
              "       [   0,    0,    0, ..., 3209,    7,  536],\n",
              "       [   0,    0,    0, ...,   11, 1315, 1413]], dtype=int32)"
            ]
          },
          "metadata": {
            "tags": []
          },
          "execution_count": 25
        }
      ]
    },
    {
      "cell_type": "markdown",
      "metadata": {
        "id": "YCXkbHVLMSQT",
        "colab_type": "text"
      },
      "source": [
        "### Build the network architecture"
      ]
    },
    {
      "cell_type": "code",
      "metadata": {
        "id": "f7T3R5ZmJAgI",
        "colab_type": "code",
        "colab": {}
      },
      "source": [
        "def create_cnn():\n",
        "    input_layer = Input((70,))\n",
        "    embedding_layer = Embedding(len(word_index)+1,300)(input_layer)\n",
        "    embedding_layer = SpatialDropout1D(0.3)(embedding_layer)\n",
        "\n",
        "    # add the convolutional layer\n",
        "    conv_layer = Conv1D(100,3,activation='relu')(embedding_layer)\n",
        "\n",
        "    # Add the pooling layer\n",
        "    pooling_layer = GlobalMaxPool1D()(conv_layer)\n",
        "    output_layer1 = Dense(50,activation='relu')(pooling_layer)\n",
        "    output_layer1 = Dropout(0.25)(output_layer1)\n",
        "    output_layer2 = Dense(1,activation='sigmoid')(output_layer1)\n",
        "\n",
        "\n",
        "    # compile the model\n",
        "    model = Model(inputs = input_layer, outputs=output_layer2)\n",
        "    model.compile(optimizer=optimizers.Adam(),loss='binary_crossentropy')\n",
        "    \n",
        "    return model"
      ],
      "execution_count": 0,
      "outputs": []
    },
    {
      "cell_type": "code",
      "metadata": {
        "id": "2fpXnx66yLvc",
        "colab_type": "code",
        "colab": {}
      },
      "source": [
        "model = create_cnn()"
      ],
      "execution_count": 0,
      "outputs": []
    },
    {
      "cell_type": "markdown",
      "metadata": {
        "id": "jRpnaWnvO3o8",
        "colab_type": "text"
      },
      "source": [
        "### Model training"
      ]
    },
    {
      "cell_type": "code",
      "metadata": {
        "id": "i20DNN6myLve",
        "colab_type": "code",
        "colab": {
          "base_uri": "https://localhost:8080/",
          "height": 354
        },
        "outputId": "69a6b5c2-c7bc-4581-bd4f-f68a517e1807"
      },
      "source": [
        "model.fit(train_seq_x,trainy)"
      ],
      "execution_count": 33,
      "outputs": [
        {
          "output_type": "stream",
          "text": [
            "WARNING:tensorflow:From /usr/local/lib/python3.6/dist-packages/keras/backend/tensorflow_backend.py:1033: The name tf.assign_add is deprecated. Please use tf.compat.v1.assign_add instead.\n",
            "\n",
            "WARNING:tensorflow:From /usr/local/lib/python3.6/dist-packages/keras/backend/tensorflow_backend.py:1020: The name tf.assign is deprecated. Please use tf.compat.v1.assign instead.\n",
            "\n",
            "WARNING:tensorflow:From /usr/local/lib/python3.6/dist-packages/keras/backend/tensorflow_backend.py:3005: The name tf.Session is deprecated. Please use tf.compat.v1.Session instead.\n",
            "\n",
            "Epoch 1/1\n",
            "WARNING:tensorflow:From /usr/local/lib/python3.6/dist-packages/keras/backend/tensorflow_backend.py:190: The name tf.get_default_session is deprecated. Please use tf.compat.v1.get_default_session instead.\n",
            "\n",
            "WARNING:tensorflow:From /usr/local/lib/python3.6/dist-packages/keras/backend/tensorflow_backend.py:197: The name tf.ConfigProto is deprecated. Please use tf.compat.v1.ConfigProto instead.\n",
            "\n",
            "WARNING:tensorflow:From /usr/local/lib/python3.6/dist-packages/keras/backend/tensorflow_backend.py:207: The name tf.global_variables is deprecated. Please use tf.compat.v1.global_variables instead.\n",
            "\n",
            "WARNING:tensorflow:From /usr/local/lib/python3.6/dist-packages/keras/backend/tensorflow_backend.py:216: The name tf.is_variable_initialized is deprecated. Please use tf.compat.v1.is_variable_initialized instead.\n",
            "\n",
            "WARNING:tensorflow:From /usr/local/lib/python3.6/dist-packages/keras/backend/tensorflow_backend.py:223: The name tf.variables_initializer is deprecated. Please use tf.compat.v1.variables_initializer instead.\n",
            "\n",
            "4179/4179 [==============================] - 13s 3ms/step - loss: 0.2951\n"
          ],
          "name": "stdout"
        },
        {
          "output_type": "execute_result",
          "data": {
            "text/plain": [
              "<keras.callbacks.History at 0x7f5cdedab780>"
            ]
          },
          "metadata": {
            "tags": []
          },
          "execution_count": 33
        }
      ]
    },
    {
      "cell_type": "markdown",
      "metadata": {
        "id": "KZGeoJEcPGMO",
        "colab_type": "text"
      },
      "source": [
        "### Model evaluation"
      ]
    },
    {
      "cell_type": "code",
      "metadata": {
        "id": "vWpqzsRkPE5X",
        "colab_type": "code",
        "colab": {
          "base_uri": "https://localhost:8080/",
          "height": 134
        },
        "outputId": "ddc3fc1c-6055-449f-ef8f-9c114b5df375"
      },
      "source": [
        "predictions = model.predict(val_seq_x)\n",
        "predictions"
      ],
      "execution_count": 65,
      "outputs": [
        {
          "output_type": "execute_result",
          "data": {
            "text/plain": [
              "array([[9.0700996e-01],\n",
              "       [1.0342896e-03],\n",
              "       [1.4178246e-02],\n",
              "       ...,\n",
              "       [1.5323758e-03],\n",
              "       [9.6052760e-01],\n",
              "       [7.3464989e-04]], dtype=float32)"
            ]
          },
          "metadata": {
            "tags": []
          },
          "execution_count": 65
        }
      ]
    },
    {
      "cell_type": "code",
      "metadata": {
        "id": "tQNsTB60Q5ZJ",
        "colab_type": "code",
        "colab": {
          "base_uri": "https://localhost:8080/",
          "height": 33
        },
        "outputId": "c6df5704-abc4-4226-c38c-fbd357b5954a"
      },
      "source": [
        "predictions = predictions.argmax(axis=-1)\n",
        "predictions"
      ],
      "execution_count": 63,
      "outputs": [
        {
          "output_type": "execute_result",
          "data": {
            "text/plain": [
              "array([0, 0, 0, ..., 0, 0, 0])"
            ]
          },
          "metadata": {
            "tags": []
          },
          "execution_count": 63
        }
      ]
    },
    {
      "cell_type": "code",
      "metadata": {
        "id": "x3y3bqSvPUfv",
        "colab_type": "code",
        "colab": {
          "base_uri": "https://localhost:8080/",
          "height": 33
        },
        "outputId": "c64cd9af-f5b4-47ac-a0cb-79ae4f9ec22d"
      },
      "source": [
        "accuracy_score(predictions,valy)"
      ],
      "execution_count": 64,
      "outputs": [
        {
          "output_type": "execute_result",
          "data": {
            "text/plain": [
              "0.8628858578607322"
            ]
          },
          "metadata": {
            "tags": []
          },
          "execution_count": 64
        }
      ]
    }
  ]
}