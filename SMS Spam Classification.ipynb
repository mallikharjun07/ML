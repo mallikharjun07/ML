{
  "nbformat": 4,
  "nbformat_minor": 0,
  "metadata": {
    "kernelspec": {
      "display_name": "Python 3",
      "language": "python",
      "name": "python3"
    },
    "language_info": {
      "codemirror_mode": {
        "name": "ipython",
        "version": 3
      },
      "file_extension": ".py",
      "mimetype": "text/x-python",
      "name": "python",
      "nbconvert_exporter": "python",
      "pygments_lexer": "ipython3",
      "version": "3.7.3"
    },
    "colab": {
      "name": "SMS Spam Classification.ipynb",
      "provenance": [],
      "toc_visible": true,
      "include_colab_link": true
    }
  },
  "cells": [
    {
      "cell_type": "markdown",
      "metadata": {
        "id": "view-in-github",
        "colab_type": "text"
      },
      "source": [
        "<a href=\"https://colab.research.google.com/github/mallikharjun07/ML/blob/master/SMS%20Spam%20Classification.ipynb\" target=\"_parent\"><img src=\"https://colab.research.google.com/assets/colab-badge.svg\" alt=\"Open In Colab\"/></a>"
      ]
    },
    {
      "cell_type": "code",
      "metadata": {
        "id": "CTQMYZOmy4cB",
        "colab_type": "code",
        "colab": {}
      },
      "source": [
        ""
      ],
      "execution_count": 0,
      "outputs": []
    },
    {
      "cell_type": "code",
      "metadata": {
        "id": "rWMp0pF9y9Rq",
        "colab_type": "code",
        "outputId": "c5995dc0-b41e-4b15-d9f3-cd5ef293c806",
        "colab": {
          "base_uri": "https://localhost:8080/",
          "height": 184
        }
      },
      "source": [
        "# Clone the entire repo.\n",
        "!git clone -l -s git://github.com/mallikharjun07/ML cloned-repo\n",
        "%cd cloned-repo\n",
        "!ls"
      ],
      "execution_count": 2,
      "outputs": [
        {
          "output_type": "stream",
          "text": [
            "Cloning into 'cloned-repo'...\n",
            "warning: --local is ignored\n",
            "remote: Enumerating objects: 18, done.\u001b[K\n",
            "remote: Counting objects:   5% (1/18)\u001b[K\rremote: Counting objects:  11% (2/18)\u001b[K\rremote: Counting objects:  16% (3/18)\u001b[K\rremote: Counting objects:  22% (4/18)\u001b[K\rremote: Counting objects:  27% (5/18)\u001b[K\rremote: Counting objects:  33% (6/18)\u001b[K\rremote: Counting objects:  38% (7/18)\u001b[K\rremote: Counting objects:  44% (8/18)\u001b[K\rremote: Counting objects:  50% (9/18)\u001b[K\rremote: Counting objects:  55% (10/18)\u001b[K\rremote: Counting objects:  61% (11/18)\u001b[K\rremote: Counting objects:  66% (12/18)\u001b[K\rremote: Counting objects:  72% (13/18)\u001b[K\rremote: Counting objects:  77% (14/18)\u001b[K\rremote: Counting objects:  83% (15/18)\u001b[K\rremote: Counting objects:  88% (16/18)\u001b[K\rremote: Counting objects:  94% (17/18)\u001b[K\rremote: Counting objects: 100% (18/18)\u001b[K\rremote: Counting objects: 100% (18/18), done.\u001b[K\n",
            "remote: Compressing objects:   6% (1/16)\u001b[K\rremote: Compressing objects:  12% (2/16)\u001b[K\rremote: Compressing objects:  18% (3/16)\u001b[K\rremote: Compressing objects:  25% (4/16)\u001b[K\rremote: Compressing objects:  31% (5/16)\u001b[K\rremote: Compressing objects:  37% (6/16)\u001b[K\rremote: Compressing objects:  43% (7/16)\u001b[K\rremote: Compressing objects:  50% (8/16)\u001b[K\rremote: Compressing objects:  56% (9/16)\u001b[K\rremote: Compressing objects:  62% (10/16)\u001b[K\rremote: Compressing objects:  68% (11/16)\u001b[K\rremote: Compressing objects:  75% (12/16)\u001b[K\rremote: Compressing objects:  81% (13/16)\u001b[K\rremote: Compressing objects:  87% (14/16)\u001b[K\rremote: Compressing objects:  93% (15/16)\u001b[K\rremote: Compressing objects: 100% (16/16)\u001b[K\rremote: Compressing objects: 100% (16/16), done.\u001b[K\n",
            "Receiving objects:   5% (1/18)   \rReceiving objects:  11% (2/18)   \rReceiving objects:  16% (3/18)   \rReceiving objects:  22% (4/18)   \rReceiving objects:  27% (5/18)   \rReceiving objects:  33% (6/18)   \rReceiving objects:  38% (7/18)   \rReceiving objects:  44% (8/18)   \rReceiving objects:  50% (9/18)   \rReceiving objects:  55% (10/18)   \rremote: Total 18 (delta 7), reused 0 (delta 0), pack-reused 0\u001b[K\n",
            "Receiving objects:  61% (11/18)   \rReceiving objects:  66% (12/18)   \rReceiving objects:  72% (13/18)   \rReceiving objects:  77% (14/18)   \rReceiving objects:  83% (15/18)   \rReceiving objects:  88% (16/18)   \rReceiving objects:  94% (17/18)   \rReceiving objects: 100% (18/18)   \rReceiving objects: 100% (18/18), 2.03 MiB | 4.32 MiB/s, done.\n",
            "Resolving deltas:   0% (0/7)   \rResolving deltas:  28% (2/7)   \rResolving deltas:  71% (5/7)   \rResolving deltas: 100% (7/7)   \rResolving deltas: 100% (7/7), done.\n",
            "/content/cloned-repo/cloned-repo\n",
            " bbc_news_mixed.csv   README.md  'SMS Spam Classification.ipynb'   spamdata.csv\n"
          ],
          "name": "stdout"
        }
      ]
    },
    {
      "cell_type": "code",
      "metadata": {
        "id": "C-0v5EdoCIe-",
        "colab_type": "code",
        "colab": {}
      },
      "source": [
        "file = '/content/cloned-repo/cloned-repo/spamdata.csv'"
      ],
      "execution_count": 0,
      "outputs": []
    },
    {
      "cell_type": "code",
      "metadata": {
        "id": "M-TQSkyGCW5d",
        "colab_type": "code",
        "colab": {
          "base_uri": "https://localhost:8080/",
          "height": 196
        },
        "outputId": "00ba6022-cf31-438e-9327-43d5edffdee3"
      },
      "source": [
        "import pandas as pd\n",
        "data = pd.read_csv(file)\n",
        "data.head()"
      ],
      "execution_count": 6,
      "outputs": [
        {
          "output_type": "execute_result",
          "data": {
            "text/html": [
              "<div>\n",
              "<style scoped>\n",
              "    .dataframe tbody tr th:only-of-type {\n",
              "        vertical-align: middle;\n",
              "    }\n",
              "\n",
              "    .dataframe tbody tr th {\n",
              "        vertical-align: top;\n",
              "    }\n",
              "\n",
              "    .dataframe thead th {\n",
              "        text-align: right;\n",
              "    }\n",
              "</style>\n",
              "<table border=\"1\" class=\"dataframe\">\n",
              "  <thead>\n",
              "    <tr style=\"text-align: right;\">\n",
              "      <th></th>\n",
              "      <th>label</th>\n",
              "      <th>text</th>\n",
              "    </tr>\n",
              "  </thead>\n",
              "  <tbody>\n",
              "    <tr>\n",
              "      <th>0</th>\n",
              "      <td>ham</td>\n",
              "      <td>Go until jurong point, crazy.. Available only ...</td>\n",
              "    </tr>\n",
              "    <tr>\n",
              "      <th>1</th>\n",
              "      <td>ham</td>\n",
              "      <td>Ok lar... Joking wif u oni...</td>\n",
              "    </tr>\n",
              "    <tr>\n",
              "      <th>2</th>\n",
              "      <td>spam</td>\n",
              "      <td>Free entry in 2 a wkly comp to win FA Cup fina...</td>\n",
              "    </tr>\n",
              "    <tr>\n",
              "      <th>3</th>\n",
              "      <td>ham</td>\n",
              "      <td>U dun say so early hor... U c already then say...</td>\n",
              "    </tr>\n",
              "    <tr>\n",
              "      <th>4</th>\n",
              "      <td>ham</td>\n",
              "      <td>Nah I don't think he goes to usf, he lives aro...</td>\n",
              "    </tr>\n",
              "  </tbody>\n",
              "</table>\n",
              "</div>"
            ],
            "text/plain": [
              "  label                                               text\n",
              "0   ham  Go until jurong point, crazy.. Available only ...\n",
              "1   ham                      Ok lar... Joking wif u oni...\n",
              "2  spam  Free entry in 2 a wkly comp to win FA Cup fina...\n",
              "3   ham  U dun say so early hor... U c already then say...\n",
              "4   ham  Nah I don't think he goes to usf, he lives aro..."
            ]
          },
          "metadata": {
            "tags": []
          },
          "execution_count": 6
        }
      ]
    },
    {
      "cell_type": "code",
      "metadata": {
        "id": "zp2M7wS3DK9W",
        "colab_type": "code",
        "colab": {}
      },
      "source": [
        "from sklearn.preprocessing import LabelEncoder\n",
        "lencod = LabelEncoder()\n",
        "target = lencod.fit_transform(data['label'])"
      ],
      "execution_count": 0,
      "outputs": []
    },
    {
      "cell_type": "code",
      "metadata": {
        "id": "21_iwyXAD3uB",
        "colab_type": "code",
        "colab": {
          "base_uri": "https://localhost:8080/",
          "height": 33
        },
        "outputId": "18f2c1d1-468e-4ec5-a212-67793dacd71f"
      },
      "source": [
        "target[:5]"
      ],
      "execution_count": 16,
      "outputs": [
        {
          "output_type": "execute_result",
          "data": {
            "text/plain": [
              "array([0, 0, 1, 0, 0])"
            ]
          },
          "metadata": {
            "tags": []
          },
          "execution_count": 16
        }
      ]
    },
    {
      "cell_type": "code",
      "metadata": {
        "id": "5NGpliwZELAT",
        "colab_type": "code",
        "colab": {}
      },
      "source": [
        ""
      ],
      "execution_count": 0,
      "outputs": []
    },
    {
      "cell_type": "markdown",
      "metadata": {
        "id": "2I0N1Cu7EPrT",
        "colab_type": "text"
      },
      "source": [
        "# Load keras libraries"
      ]
    },
    {
      "cell_type": "code",
      "metadata": {
        "id": "4vUpD8WSCwko",
        "colab_type": "code",
        "colab": {}
      },
      "source": [
        "\n",
        "from keras.preprocessing.text import Tokenizer\n",
        "from keras.preprocessing.sequence import pad_sequences\n",
        "from sklearn.model_selection import train_test_split"
      ],
      "execution_count": 0,
      "outputs": []
    },
    {
      "cell_type": "code",
      "metadata": {
        "id": "scDE9otyyLva",
        "colab_type": "code",
        "colab": {
          "base_uri": "https://localhost:8080/",
          "height": 33
        },
        "outputId": "be6b01de-5133-4b26-f608-fd4e2862a036"
      },
      "source": [
        "token = Tokenizer()\n",
        "token.fit_on_texts(data[\"text\"])\n",
        "word_index = token.word_index\n",
        "# type(word_index) - it is dictionary"
      ],
      "execution_count": 19,
      "outputs": [
        {
          "output_type": "execute_result",
          "data": {
            "text/plain": [
              "dict"
            ]
          },
          "metadata": {
            "tags": []
          },
          "execution_count": 19
        }
      ]
    },
    {
      "cell_type": "code",
      "metadata": {
        "id": "3ATIMuEwEs5e",
        "colab_type": "code",
        "colab": {}
      },
      "source": [
        "trainx, valx, trainy, valy = train_test_split(data[\"text\"], target)\n",
        "\n",
        "train_seq_x = pad_sequences(token.texts_to_sequences(trainx),maxlen=70)\n",
        "val_seq_x = pad_sequences(token.texts_to_sequences(valx),maxlen=70)"
      ],
      "execution_count": 0,
      "outputs": []
    },
    {
      "cell_type": "code",
      "metadata": {
        "id": "0EpLhe1-F6Si",
        "colab_type": "code",
        "colab": {
          "base_uri": "https://localhost:8080/",
          "height": 134
        },
        "outputId": "142c287f-0354-4bd8-94eb-714fd7a1fc88"
      },
      "source": [
        "train_seq_x[:100]"
      ],
      "execution_count": 25,
      "outputs": [
        {
          "output_type": "execute_result",
          "data": {
            "text/plain": [
              "array([[   0,    0,    0, ...,    3,  224,   12],\n",
              "       [   0,    0,    0, ...,   47, 8857, 2985],\n",
              "       [   0,    0,    0, ...,   17,    2,  414],\n",
              "       ...,\n",
              "       [   0,    0,    0, ...,  311,   29,  283],\n",
              "       [   0,    0,    0, ..., 3209,    7,  536],\n",
              "       [   0,    0,    0, ...,   11, 1315, 1413]], dtype=int32)"
            ]
          },
          "metadata": {
            "tags": []
          },
          "execution_count": 25
        }
      ]
    },
    {
      "cell_type": "code",
      "metadata": {
        "id": "OpjkwCXVTdY7",
        "colab_type": "code",
        "colab": {}
      },
      "source": [
        "from keras import layers, models, optimizers\n",
        "def create_cnn():\n",
        "    input_layer = layers.Input((70,))\n",
        "    embedding_layer = layers.Embedding(len(word_index))+1,300)(input_layer)\n",
        "    conv_layer = layers.Convolution1D(100,3,activation='relu')(embedding_layer)\n",
        "    pooling_layer = layers.Global1MaxPool1D()(conv_layer)\n",
        "\n",
        "    output_layer = layers.Dense(50,activation='relu')(pooling_layer)"
      ],
      "execution_count": 0,
      "outputs": []
    },
    {
      "cell_type": "code",
      "metadata": {
        "id": "2fpXnx66yLvc",
        "colab_type": "code",
        "colab": {}
      },
      "source": [
        "def train_model(classifier, feature_vector_train, label, feature_vector_val, valid_y):\n",
        "    classifier.fit(feature_vector_train, label)\n",
        "    predictions = classifier.predict(feature_vector_val)\n",
        "    predictions = predictions.argmax(axis=-1)\n",
        "    return accuracy_score(predictions, valid_y)"
      ],
      "execution_count": 0,
      "outputs": []
    },
    {
      "cell_type": "code",
      "metadata": {
        "id": "i20DNN6myLve",
        "colab_type": "code",
        "colab": {}
      },
      "source": [
        "from keras import layers, models, optimizers \n",
        "\n",
        "def create_cnn():\n",
        "    \n",
        "    input_layer = layers.Input((70, ))\n",
        "    \n",
        "    embedding_layer = layers.Embedding(len(word_index)+1, 300, weights=[embedding_matrix], trainable=False)(input_layer)\n",
        "    \n",
        "    conv_layer = layers.Convolution1D(100, 3, activation=\"relu\")(embedding_layer)\n",
        "    \n",
        "    pooling_layer = layers.GlobalMaxPool1D()(conv_layer)\n",
        "    \n",
        "    output_layer = layers.Dense(50, activation=\"relu\")(pooling_layer)\n",
        "    output_layer = layers.Dropout(0.25)(output_layer)    \n",
        "    output_layer = layers.Dense(1, activation=\"sigmoid\")(output_layer)\n",
        "    \n",
        "    model = models.Model(inputs=input_layer, outputs=output_layer)\n",
        "    model.compile(optimizer=optimizers.Adam(), loss=\"binary_crossentropy\")\n",
        "    return model"
      ],
      "execution_count": 0,
      "outputs": []
    },
    {
      "cell_type": "code",
      "metadata": {
        "id": "q1MHV0TDyLvg",
        "colab_type": "code",
        "colab": {}
      },
      "source": [
        "classifier = create_cnn()\n",
        "train_model(classifier, trainx, trainy, valx, valy)"
      ],
      "execution_count": 0,
      "outputs": []
    },
    {
      "cell_type": "code",
      "metadata": {
        "_uuid": "0e20242470db5f225823acfbe524f7adb8c0a9f4",
        "id": "KnX67eTJyLvj",
        "colab_type": "code",
        "colab": {}
      },
      "source": [
        "## feature engineering \n",
        "\n",
        "## meta features\n",
        "data[\"cleaned\"] = data[\"cleaned\"].fillna(\"\")\n",
        "\n",
        "data[\"digit_count\"] = data[\"text\"].apply(lambda x : sum([1 if w.isdigit() else 0 for w in x.split()]))\n",
        "data[\"upper_count\"] = data[\"text\"].apply(lambda x : sum([1 if w.isupper() else 0 for w in x.split()]))\n",
        "data[\"word_count\"] = data[\"cleaned\"].apply(lambda x: len(x.split()))\n",
        "data[\"char_count\"] = data[\"cleaned\"].apply(lambda x: len(x))\n",
        "data[\"char_nospace_count\"] = data[\"cleaned\"].apply(lambda x: len(x.replace(\" \",\"\")))\n",
        "\n",
        "data"
      ],
      "execution_count": 0,
      "outputs": []
    },
    {
      "cell_type": "code",
      "metadata": {
        "_uuid": "1a7989cb1ca5978a5f87140e417e27c1ad0dbfa6",
        "id": "SELnWmO0yLvq",
        "colab_type": "code",
        "colab": {}
      },
      "source": [
        "## nlp based features \n",
        "\n",
        "pos_dic = {\n",
        "    'noun' : ['NN','NNS','NNP','NNPS'],\n",
        "    'pron' : ['PRP','PRP$','WP','WP$'],\n",
        "    'verb' : ['VB','VBD','VBG','VBN','VBP','VBZ'],\n",
        "    'adj' :  ['JJ','JJR','JJS'],\n",
        "    'adv' : ['RB','RBR','RBS','WRB']\n",
        "}\n",
        "\n",
        "def pos_check(x, flag):\n",
        "    tags = nltk.pos_tag(nltk.word_tokenize(x))\n",
        "    count = 0\n",
        "    for tag in tags:\n",
        "        tag = tag[1]\n",
        "        if tag in pos_dic[flag]:\n",
        "            count += 1\n",
        "    return count\n",
        "\n",
        "data['noun_count'] = data['cleaned'].apply(lambda x: pos_check(x, 'noun'))\n",
        "data['verb_count'] = data['cleaned'].apply(lambda x: pos_check(x, 'verb'))\n",
        "data"
      ],
      "execution_count": 0,
      "outputs": []
    },
    {
      "cell_type": "code",
      "metadata": {
        "_uuid": "968c73b132860c4bb841f148bc766a285e869f06",
        "id": "i1ZnPrcjyLvw",
        "colab_type": "code",
        "colab": {}
      },
      "source": [
        "from sklearn.feature_extraction.text import CountVectorizer\n",
        "from sklearn.feature_extraction.text import TfidfVectorizer\n",
        "\n",
        "cvz = CountVectorizer(analyzer='word') \n",
        "cvz.fit(data[\"cleaned\"].values)\n",
        "count_vectors = cvz.transform(data[\"cleaned\"].values)"
      ],
      "execution_count": 0,
      "outputs": []
    },
    {
      "cell_type": "code",
      "metadata": {
        "id": "jzDwR7KiyLv0",
        "colab_type": "code",
        "colab": {}
      },
      "source": [
        "count_vectors"
      ],
      "execution_count": 0,
      "outputs": []
    },
    {
      "cell_type": "code",
      "metadata": {
        "_uuid": "96cb4e05f4d2122dc37cc9c70d79b22ee11d889e",
        "id": "H5BsYuJPyLv3",
        "colab_type": "code",
        "colab": {}
      },
      "source": [
        "word_tfidf = TfidfVectorizer(analyzer='word') \n",
        "word_tfidf.fit(data[\"cleaned\"].values)\n",
        "word_vectors_tfidf = word_tfidf.transform(data[\"cleaned\"].values)\n",
        "\n",
        "ngram_tfidf = TfidfVectorizer(analyzer='word', ngram_range=(1,3)) \n",
        "ngram_tfidf.fit(data[\"cleaned\"].values)\n",
        "ngarm_vectors_tfidf = ngram_tfidf.transform(data[\"cleaned\"].values)\n",
        "\n",
        "char_tfidf = TfidfVectorizer(analyzer='char', ngram_range=(1,3)) \n",
        "char_tfidf.fit(data[\"cleaned\"].values)\n",
        "char_vectors_tfidf = char_tfidf.transform(data[\"cleaned\"].values)"
      ],
      "execution_count": 0,
      "outputs": []
    },
    {
      "cell_type": "code",
      "metadata": {
        "_uuid": "d08dafd8012069195f4b3d3f2f92150c9e2f39a3",
        "id": "U1_rCgluyLv7",
        "colab_type": "code",
        "colab": {}
      },
      "source": [
        "tfidf = dict(zip(word_tfidf.get_feature_names(), word_tfidf.idf_))\n",
        "tfidf = pd.DataFrame(columns=['title_word_tfidf']).from_dict(dict(tfidf), orient='index')\n",
        "tfidf.columns = ['title_word_tfidf']\n",
        "tfidf.sort_values(by=['title_word_tfidf'], ascending=False).head()"
      ],
      "execution_count": 0,
      "outputs": []
    },
    {
      "cell_type": "code",
      "metadata": {
        "_uuid": "c7645016cb25bb35baf2c134a40e88cf1b6bd68f",
        "id": "HTOWRJKnyLv8",
        "colab_type": "code",
        "colab": {}
      },
      "source": [
        "tfidf.sort_values(by=['title_word_tfidf'], ascending=False).tail()"
      ],
      "execution_count": 0,
      "outputs": []
    },
    {
      "cell_type": "code",
      "metadata": {
        "id": "ch-P6a5byLv-",
        "colab_type": "code",
        "colab": {}
      },
      "source": [
        "from scipy.sparse import hstack, csr_matrix\n",
        "\n",
        "meta_features = ['digit_count', 'upper_count', 'word_count', 'char_count', 'char_nospace_count', 'noun_count', 'verb_count']\n",
        "feature_set1 = data[meta_features]\n",
        "train = hstack([word_vectors_tfidf, csr_matrix(feature_set1)], 'csr')"
      ],
      "execution_count": 0,
      "outputs": []
    },
    {
      "cell_type": "code",
      "metadata": {
        "id": "u7FnxhZnyLwC",
        "colab_type": "code",
        "colab": {}
      },
      "source": [
        "train"
      ],
      "execution_count": 0,
      "outputs": []
    },
    {
      "cell_type": "code",
      "metadata": {
        "_uuid": "2fdae7450be9bf493a50179e885b778b5a6d2217",
        "id": "eIepM1-wyLwF",
        "colab_type": "code",
        "colab": {}
      },
      "source": [
        "from sklearn.preprocessing import LabelEncoder\n",
        "\n",
        "target = data['label'].values\n",
        "target = LabelEncoder().fit_transform(target)"
      ],
      "execution_count": 0,
      "outputs": []
    },
    {
      "cell_type": "code",
      "metadata": {
        "_uuid": "a61652334908d4e1a01ba71cead11bdd8b702330",
        "id": "HHqeR1p3yLwH",
        "colab_type": "code",
        "colab": {}
      },
      "source": [
        "from sklearn.model_selection import train_test_split\n",
        "trainx, valx, trainy, valy = train_test_split(train, target)"
      ],
      "execution_count": 0,
      "outputs": []
    },
    {
      "cell_type": "code",
      "metadata": {
        "_uuid": "a99be3c2db8d7c152ca74b1eab1ed26bb9e19432",
        "id": "JC1AaFhIyLwL",
        "colab_type": "code",
        "colab": {}
      },
      "source": [
        "from sklearn import naive_bayes\n",
        "from sklearn.linear_model import LogisticRegression\n",
        "from sklearn import svm\n",
        "from sklearn import ensemble\n",
        "# import xgboost\n",
        "from sklearn.metrics import accuracy_score"
      ],
      "execution_count": 0,
      "outputs": []
    },
    {
      "cell_type": "code",
      "metadata": {
        "_uuid": "4605e907c822edf5cb6f8feddac1d12b15da079d",
        "id": "AlxtCKWRyLwO",
        "colab_type": "code",
        "colab": {}
      },
      "source": [
        "## NaiveBayes\n",
        "model = naive_bayes.MultinomialNB()\n",
        "model.fit(trainx, trainy)\n",
        "preds = model.predict(valx)\n",
        "accuracy_score(preds, valy)"
      ],
      "execution_count": 0,
      "outputs": []
    },
    {
      "cell_type": "code",
      "metadata": {
        "_uuid": "6a55f11a6a32cb703f56ba4e6829ca0cb84918df",
        "id": "vhywFb3UyLwP",
        "colab_type": "code",
        "colab": {}
      },
      "source": [
        "model = LogisticRegression()\n",
        "model.fit(trainx, trainy)\n",
        "preds = model.predict(valx)\n",
        "accuracy_score(preds, valy)"
      ],
      "execution_count": 0,
      "outputs": []
    },
    {
      "cell_type": "code",
      "metadata": {
        "_uuid": "3bfb49d56112d808dfb88886125fb35a689a4cd3",
        "id": "6IdOgKOdyLwT",
        "colab_type": "code",
        "colab": {}
      },
      "source": [
        "model = svm.SVC()\n",
        "model.fit(trainx, trainy)\n",
        "preds = model.predict(valx)\n",
        "accuracy_score(preds, valy)"
      ],
      "execution_count": 0,
      "outputs": []
    },
    {
      "cell_type": "code",
      "metadata": {
        "_uuid": "b318a4113b1d267340f9a6a0b919906111feafcb",
        "id": "H91p2CQVyLwV",
        "colab_type": "code",
        "colab": {}
      },
      "source": [
        "model = ensemble.ExtraTreesClassifier()\n",
        "model.fit(trainx, trainy)\n",
        "preds = model.predict(valx)\n",
        "accuracy_score(preds, valy)"
      ],
      "execution_count": 0,
      "outputs": []
    },
    {
      "cell_type": "code",
      "metadata": {
        "_uuid": "cd1a3f1d556b91f9d7f19873e751871ff7fe3789",
        "id": "gOqY_Q3lyLwc",
        "colab_type": "code",
        "colab": {}
      },
      "source": [
        "# load the pre-trained word-embedding vectors\n",
        "import numpy as np \n",
        "embeddings_index = {}\n",
        "for i, line in enumerate(open('pretrained.vec', encoding=\"utf8\")):\n",
        "    values = line.split()\n",
        "    embeddings_index[values[0]] = np.asarray(values[1:], dtype='float32')"
      ],
      "execution_count": 0,
      "outputs": []
    },
    {
      "cell_type": "code",
      "metadata": {
        "_uuid": "5505bd107e0520f2a2010fde2ee6d09ea013cb9e",
        "id": "YfRig4Q-yLwf",
        "colab_type": "code",
        "colab": {}
      },
      "source": [
        "# create a tokenizer \n",
        "from keras.preprocessing import text, sequence\n",
        "from sklearn import model_selection \n",
        "\n",
        "token = text.Tokenizer()\n",
        "token.fit_on_texts(data['text'])\n",
        "word_index = token.word_index\n",
        "\n",
        "# convert text to sequence of tokens and pad them to ensure equal length vectors \n",
        "train_x, valid_x, train_y, valid_y = model_selection.train_test_split(data['text'], target)\n",
        "train_seq_x = sequence.pad_sequences(token.texts_to_sequences(train_x), maxlen=70)\n",
        "valid_seq_x = sequence.pad_sequences(token.texts_to_sequences(valid_x), maxlen=70)\n",
        "\n",
        "# create token-embedding mapping\n",
        "embedding_matrix = np.zeros((len(word_index) + 1, 300))\n",
        "for word, i in word_index.items():\n",
        "    embedding_vector = embeddings_index.get(word)\n",
        "    if embedding_vector is not None:\n",
        "        embedding_matrix[i] = embedding_vector"
      ],
      "execution_count": 0,
      "outputs": []
    },
    {
      "cell_type": "code",
      "metadata": {
        "id": "d7ESTPy4yLwj",
        "colab_type": "code",
        "colab": {}
      },
      "source": [
        "train_x.shape"
      ],
      "execution_count": 0,
      "outputs": []
    },
    {
      "cell_type": "code",
      "metadata": {
        "_uuid": "9bd413542a09faca6fc57b60cd6c5643394d0c80",
        "id": "cO1328KyyLwm",
        "colab_type": "code",
        "colab": {}
      },
      "source": [
        "def train_model(classifier, feature_vector_train, label, feature_vector_valid, is_neural_net=False):\n",
        "    # fit the training dataset on the classifier\n",
        "    classifier.fit(feature_vector_train, label)\n",
        "    \n",
        "    # predict the labels on validation dataset\n",
        "    predictions = classifier.predict(feature_vector_valid)\n",
        "    \n",
        "    if is_neural_net:\n",
        "        predictions = predictions.argmax(axis=-1)\n",
        "    \n",
        "    return metrics.accuracy_score(predictions, valid_y)"
      ],
      "execution_count": 0,
      "outputs": []
    },
    {
      "cell_type": "code",
      "metadata": {
        "_uuid": "4dc584a1a54bb7244110cb10091353b9d60911dd",
        "id": "oNcUOq5gyLwp",
        "colab_type": "code",
        "colab": {}
      },
      "source": [
        "from keras import layers , models , optimizers\n",
        "from sklearn import metrics\n",
        "\n",
        "def create_cnn():\n",
        "    # Add an Input Layer\n",
        "    input_layer = layers.Input((70, ))\n",
        "\n",
        "    # Add the word embedding Layer\n",
        "    embedding_layer = layers.Embedding(len(word_index) + 1, 300, weights=[embedding_matrix], trainable=False)(input_layer)\n",
        "    embedding_layer = layers.SpatialDropout1D(0.3)(embedding_layer)\n",
        "\n",
        "    # Add the convolutional Layer\n",
        "    conv_layer = layers.Convolution1D(100, 3, activation=\"relu\")(embedding_layer)\n",
        "\n",
        "    # Add the pooling Layer\n",
        "    pooling_layer = layers.GlobalMaxPool1D()(conv_layer)\n",
        "\n",
        "    # Add the output Layers\n",
        "    output_layer1 = layers.Dense(50, activation=\"relu\")(pooling_layer)\n",
        "    output_layer1 = layers.Dropout(0.25)(output_layer1)\n",
        "    output_layer2 = layers.Dense(1, activation=\"sigmoid\")(output_layer1)\n",
        "\n",
        "    # Compile the model\n",
        "    model = models.Model(inputs=input_layer, outputs=output_layer2)\n",
        "    model.compile(optimizer=optimizers.Adam(), loss='binary_crossentropy')\n",
        "    \n",
        "    return model\n",
        "\n",
        "classifier = create_cnn()\n",
        "accuracy = train_model(classifier, train_seq_x, train_y, valid_seq_x, is_neural_net=True)\n",
        "print (\"CNN, Word Embeddings\",  accuracy)"
      ],
      "execution_count": 0,
      "outputs": []
    }
  ]
}